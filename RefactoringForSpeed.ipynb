{
 "cells": [
  {
   "cell_type": "markdown",
   "metadata": {},
   "source": [
    "# Refactoring the code to improve speed"
   ]
  },
  {
   "cell_type": "code",
   "execution_count": 1,
   "metadata": {
    "collapsed": true
   },
   "outputs": [],
   "source": [
    "import pandas as pd\n",
    "from jupyterworkflow.data import get_freemont_data\n",
    "\n",
    "data = get_freemont_data()"
   ]
  },
  {
   "cell_type": "markdown",
   "metadata": {},
   "source": [
    "- parsing all the strings (there's a lot here!) is the main focator responsible of our slow code. You can check by removing the last argument of 'read_csv' function."
   ]
  },
  {
   "cell_type": "code",
   "execution_count": 2,
   "metadata": {},
   "outputs": [
    {
     "data": {
      "text/plain": [
       "dtype('O')"
      ]
     },
     "execution_count": 2,
     "metadata": {},
     "output_type": "execute_result"
    }
   ],
   "source": [
    "data = pd.read_csv('freemont.csv', index_col='Date')\n",
    "data.index.dtype"
   ]
  },
  {
   "cell_type": "markdown",
   "metadata": {},
   "source": [
    "- problem is, by default our index will be objects (strings) instead of dates"
   ]
  },
  {
   "cell_type": "code",
   "execution_count": 3,
   "metadata": {
    "scrolled": true
   },
   "outputs": [
    {
     "data": {
      "text/plain": [
       "dtype('<M8[ns]')"
      ]
     },
     "execution_count": 3,
     "metadata": {},
     "output_type": "execute_result"
    }
   ],
   "source": [
    "data = pd.read_csv('freemont.csv', index_col='Date', parse_dates=True)\n",
    "data.index.dtype"
   ]
  },
  {
   "cell_type": "markdown",
   "metadata": {},
   "source": [
    "- need to parse it, but using another way\n",
    "- pandas in-built function yields the same result and problem"
   ]
  },
  {
   "cell_type": "code",
   "execution_count": 4,
   "metadata": {},
   "outputs": [
    {
     "data": {
      "text/plain": [
       "DatetimeIndex(['2012-10-03 00:00:00', '2012-10-03 01:00:00',\n",
       "               '2012-10-03 02:00:00', '2012-10-03 03:00:00',\n",
       "               '2012-10-03 04:00:00', '2012-10-03 05:00:00',\n",
       "               '2012-10-03 06:00:00', '2012-10-03 07:00:00',\n",
       "               '2012-10-03 08:00:00', '2012-10-03 09:00:00',\n",
       "               ...\n",
       "               '2017-06-30 14:00:00', '2017-06-30 15:00:00',\n",
       "               '2017-06-30 16:00:00', '2017-06-30 17:00:00',\n",
       "               '2017-06-30 18:00:00', '2017-06-30 19:00:00',\n",
       "               '2017-06-30 20:00:00', '2017-06-30 21:00:00',\n",
       "               '2017-06-30 22:00:00', '2017-06-30 23:00:00'],\n",
       "              dtype='datetime64[ns]', name='Date', length=41568, freq=None)"
      ]
     },
     "execution_count": 4,
     "metadata": {},
     "output_type": "execute_result"
    }
   ],
   "source": [
    "data = pd.read_csv('freemont.csv', index_col='Date')\n",
    "pd.to_datetime(data.index)"
   ]
  },
  {
   "cell_type": "markdown",
   "metadata": {},
   "source": [
    "- here is our default format"
   ]
  },
  {
   "cell_type": "code",
   "execution_count": 5,
   "metadata": {},
   "outputs": [
    {
     "data": {
      "text/plain": [
       "Index(['10/03/2012 12:00:00 AM', '10/03/2012 01:00:00 AM',\n",
       "       '10/03/2012 02:00:00 AM', '10/03/2012 03:00:00 AM',\n",
       "       '10/03/2012 04:00:00 AM', '10/03/2012 05:00:00 AM',\n",
       "       '10/03/2012 06:00:00 AM', '10/03/2012 07:00:00 AM',\n",
       "       '10/03/2012 08:00:00 AM', '10/03/2012 09:00:00 AM',\n",
       "       ...\n",
       "       '06/30/2017 02:00:00 PM', '06/30/2017 03:00:00 PM',\n",
       "       '06/30/2017 04:00:00 PM', '06/30/2017 05:00:00 PM',\n",
       "       '06/30/2017 06:00:00 PM', '06/30/2017 07:00:00 PM',\n",
       "       '06/30/2017 08:00:00 PM', '06/30/2017 09:00:00 PM',\n",
       "       '06/30/2017 10:00:00 PM', '06/30/2017 11:00:00 PM'],\n",
       "      dtype='object', name='Date', length=41568)"
      ]
     },
     "execution_count": 5,
     "metadata": {},
     "output_type": "execute_result"
    }
   ],
   "source": [
    "data = pd.read_csv('freemont.csv', index_col='Date')\n",
    "data.index"
   ]
  },
  {
   "cell_type": "markdown",
   "metadata": {},
   "source": [
    "- we can speed-up things by telling the format to the code, using python 'strftime' format. Parsing then get quasi-instant\n",
    "- in case the format change mid-data, we will have problems. We thus insert a test and a secondary solution in case of an exception"
   ]
  },
  {
   "cell_type": "code",
   "execution_count": 6,
   "metadata": {},
   "outputs": [],
   "source": [
    "data = pd.read_csv('freemont.csv', index_col='Date')\n",
    "\n",
    "try:\n",
    "    data.index = pd.to_datetime(data.index, format='%m/%d/%Y %H:%M:%S %p')\n",
    "except TypeError:\n",
    "    data.index = pd.to_datetime(data.index)"
   ]
  },
  {
   "cell_type": "markdown",
   "metadata": {},
   "source": [
    "- put those last lines in the data.py file and re-run the unit test ti see how things have been speed-up\n",
    "- unit test can also help refactoring the code for speed"
   ]
  },
  {
   "cell_type": "code",
   "execution_count": null,
   "metadata": {
    "collapsed": true
   },
   "outputs": [],
   "source": []
  }
 ],
 "metadata": {
  "kernelspec": {
   "display_name": "Python 3",
   "language": "python",
   "name": "python3"
  },
  "language_info": {
   "codemirror_mode": {
    "name": "ipython",
    "version": 3
   },
   "file_extension": ".py",
   "mimetype": "text/x-python",
   "name": "python",
   "nbconvert_exporter": "python",
   "pygments_lexer": "ipython3",
   "version": "3.6.1"
  }
 },
 "nbformat": 4,
 "nbformat_minor": 2
}
