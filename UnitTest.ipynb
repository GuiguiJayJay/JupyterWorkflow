{
 "cells": [
  {
   "cell_type": "markdown",
   "metadata": {},
   "source": [
    "# Unit Test"
   ]
  },
  {
   "cell_type": "markdown",
   "metadata": {},
   "source": [
    "- initialize necessary stuff"
   ]
  },
  {
   "cell_type": "code",
   "execution_count": 9,
   "metadata": {},
   "outputs": [],
   "source": [
    "import pandas as pd\n",
    "from jupyterworkflow.data import get_freemont_data\n",
    "\n",
    "data = get_freemont_data()"
   ]
  },
  {
   "cell_type": "markdown",
   "metadata": {},
   "source": [
    "- check that all the data contains expected fields\n",
    "- 'assert' is here to raise an exception if assertion is False instead of True. Note it is slightly different of 'raise' as 'assert' can be disabled with '-o' option when starting Python, so use it mainly for sanity-check/debug. 'raise' is better in case your code might encounter some exceptions while executing (for exemple when trying to write on protected file etc...)."
   ]
  },
  {
   "cell_type": "code",
   "execution_count": 10,
   "metadata": {},
   "outputs": [],
   "source": [
    "assert all(data.columns == ['West','East','Total'])"
   ]
  },
  {
   "cell_type": "markdown",
   "metadata": {},
   "source": [
    "- check that 'data.index' (1st arg = object) is really of type 'pd.DatetimeIndex' (2nd arg = classinfo), more precisely if 'data.index' inherits from 'pd.DatetimeIndex' as this last argument is a tuple of the first argument in this case.\n"
   ]
  },
  {
   "cell_type": "code",
   "execution_count": 15,
   "metadata": {
    "collapsed": true
   },
   "outputs": [],
   "source": [
    "assert isinstance(data.index, pd.DatetimeIndex)"
   ]
  },
  {
   "cell_type": "markdown",
   "metadata": {},
   "source": [
    "- we can put them in a 'test' function"
   ]
  },
  {
   "cell_type": "code",
   "execution_count": 16,
   "metadata": {
    "collapsed": true
   },
   "outputs": [],
   "source": [
    "def test_freemont_data():\n",
    "    data = get_freemont_data()\n",
    "    assert all(data.columns == ['West','East','Total'])\n",
    "    assert isinstance(data.index, pd.DatetimeIndex)"
   ]
  },
  {
   "cell_type": "code",
   "execution_count": 17,
   "metadata": {
    "collapsed": true
   },
   "outputs": [],
   "source": [
    "test_freemont_data()"
   ]
  },
  {
   "cell_type": "markdown",
   "metadata": {},
   "source": [
    "- PyTest is a framework for unitary tests that can do it for you.\n",
    "- create a tests directory under your package directory\n",
    "- create a test_data.py (to test data) under this new directory and copy/paste the previous function in it\n",
    "- run the command 'python -m pytest jupyterworkflow' to test "
   ]
  },
  {
   "cell_type": "code",
   "execution_count": null,
   "metadata": {
    "collapsed": true
   },
   "outputs": [],
   "source": []
  }
 ],
 "metadata": {
  "kernelspec": {
   "display_name": "Python 3",
   "language": "python",
   "name": "python3"
  },
  "language_info": {
   "codemirror_mode": {
    "name": "ipython",
    "version": 3
   },
   "file_extension": ".py",
   "mimetype": "text/x-python",
   "name": "python",
   "nbconvert_exporter": "python",
   "pygments_lexer": "ipython3",
   "version": "3.6.1"
  }
 },
 "nbformat": 4,
 "nbformat_minor": 2
}
